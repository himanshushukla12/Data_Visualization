{
  "cells": [
    {
      "cell_type": "markdown",
      "metadata": {
        "id": "view-in-github",
        "colab_type": "text"
      },
      "source": [
        "<a href=\"https://colab.research.google.com/github/himanshushukla12/Data_Visualization/blob/main/lab3/2022H1030107P_lab3.ipynb\" target=\"_parent\"><img src=\"https://colab.research.google.com/assets/colab-badge.svg\" alt=\"Open In Colab\"/></a>"
      ]
    },
    {
      "cell_type": "markdown",
      "source": [
        "```markdown\n",
        "2022H1030107P\n",
        "Himanshu Shukla\n",
        "Lab3 assignment\n",
        "```"
      ],
      "metadata": {
        "id": "LqWJ5Gd0f34L"
      },
      "id": "LqWJ5Gd0f34L"
    },
    {
      "cell_type": "code",
      "execution_count": 2,
      "id": "195d5fd2-c657-4fe4-9a17-9a66fb4f4285",
      "metadata": {
        "id": "195d5fd2-c657-4fe4-9a17-9a66fb4f4285"
      },
      "outputs": [],
      "source": [
        "import requests\n",
        "import pandas as pd\n",
        "\n",
        "# Fetch the metadata from the URL\n",
        "r = requests.get(\"https://data.telangana.gov.in/api/1/metastore/schemas/dataset/items/62a1cc18-7613-460b-a0b1-4b71c78fa1ce\")\n",
        "dataInfo = r.json()\n",
        "\n",
        "# Use the URLs listed in the metadata to read the CSV files\n",
        "df_max = pd.read_csv(dataInfo[\"distribution\"][0][\"downloadURL\"])\n",
        "df_min = pd.read_csv(dataInfo[\"distribution\"][1][\"downloadURL\"])\n"
      ]
    },
    {
      "cell_type": "code",
      "execution_count": 3,
      "id": "d8533f3c-2dc8-406e-a5d2-4e95f4b3eae5",
      "metadata": {
        "colab": {
          "base_uri": "https://localhost:8080/"
        },
        "id": "d8533f3c-2dc8-406e-a5d2-4e95f4b3eae5",
        "outputId": "a29714f5-4987-443c-ac11-2d6cd381f5d6"
      },
      "outputs": [
        {
          "output_type": "execute_result",
          "data": {
            "text/plain": [
              "(Empty DataFrame\n",
              " Columns: [Mandal, District, Mandal.1, Jun-13, Jul-13, Aug-13, Sep-13, Oct-13, Nov-13, Dec-13, Jan-14, Feb-14, Mar-14, Apr-14, May-14, Jun-14, Jul-14, Aug-14, Sep-14, Oct-14, Nov-14, Dec-14, Jan-15, Feb-15, Mar-15, Apr-15, May-15, Jun-15, Jul-15, Aug-15, Sep-15, Oct-15, Nov-15, Dec-15, Jan-16, Feb-16, Mar-16, Apr-16, May-16, Jun-16, Jul-16, Aug-16, Sep-16, Oct-16, Nov-16, Dec-16, Jan-17, Feb-17, Mar-17, Apr-17, May-17, Jun-17, Jul-17, Aug-17, Sep-17, Oct-17, Nov-17, Dec-17, Jan-18]\n",
              " Index: []\n",
              " \n",
              " [0 rows x 59 columns],\n",
              " Empty DataFrame\n",
              " Columns: [Dmcode, District, Mandal, Jun-13, Jul-13, Aug-13, Sep-13, Oct-13, Nov-13, Dec-13, Jan-14, Feb-14, Mar-14, Apr-14, May-14, Jun-14, Jul-14, Aug-14, Sep-14, Oct-14, Nov-14, Dec-14, Jan-15, Feb-15, Mar-15, Apr-15, May-15, Jun-15, Jul-15, Aug-15, Sep-15, Oct-15, Nov-15, Dec-15, Jan-16, Feb-16, Mar-16, Apr-16, May-16, Jun-16, Jul-16, Aug-16, Sep-16, Oct-16, Nov-16, Dec-16, Jan-17, Feb-17, Mar-17, Apr-17, May-17, Jun-17, Jul-17, Aug-17, Sep-17, Oct-17, Nov-17, Dec-17, Jan-18]\n",
              " Index: []\n",
              " \n",
              " [0 rows x 59 columns])"
            ]
          },
          "metadata": {},
          "execution_count": 3
        }
      ],
      "source": [
        "# Filter the data for Medchal district and Kapra Mandal\n",
        "df_max_filtered = df_max[(df_max['District'] == 'Medchal') & (df_max['Mandal.1'] == 'Kapra')]\n",
        "df_min_filtered = df_min[(df_min['District'] == 'Medchal') & (df_min['Mandal'] == 'Kapra')]\n",
        "\n",
        "# Display the filtered data\n",
        "df_max_filtered, df_min_filtered\n"
      ]
    },
    {
      "cell_type": "code",
      "execution_count": 4,
      "id": "bb86797d-2631-4fc0-9fa1-afd2e098570e",
      "metadata": {
        "colab": {
          "base_uri": "https://localhost:8080/"
        },
        "id": "bb86797d-2631-4fc0-9fa1-afd2e098570e",
        "outputId": "557b7bb8-5199-44f4-ec19-4cb72da44536"
      },
      "outputs": [
        {
          "output_type": "execute_result",
          "data": {
            "text/plain": [
              "(array(['Medchal-Malkajgiri'], dtype=object),\n",
              " array(['Kapra'], dtype=object),\n",
              " array(['Kapra'], dtype=object))"
            ]
          },
          "metadata": {},
          "execution_count": 4
        }
      ],
      "source": [
        "# Search for likely names for Medchal and Kapra in the District and Mandal columns\n",
        "possible_medchal_names = df_max[df_max['District'].str.contains('Medchal', case=False, na=False)]['District'].unique()\n",
        "possible_kapra_names_max = df_max[df_max['Mandal.1'].str.contains('Kapra', case=False, na=False)]['Mandal.1'].unique()\n",
        "possible_kapra_names_min = df_min[df_min['Mandal'].str.contains('Kapra', case=False, na=False)]['Mandal'].unique()\n",
        "\n",
        "possible_medchal_names, possible_kapra_names_max, possible_kapra_names_min\n"
      ]
    },
    {
      "cell_type": "code",
      "execution_count": 5,
      "id": "5b3431c3-0902-4c2a-b72e-aa773d751f00",
      "metadata": {
        "colab": {
          "base_uri": "https://localhost:8080/"
        },
        "id": "5b3431c3-0902-4c2a-b72e-aa773d751f00",
        "outputId": "abf7be11-3911-4567-ac1b-65c9d9f642d5"
      },
      "outputs": [
        {
          "output_type": "execute_result",
          "data": {
            "text/plain": [
              "(     Mandal            District Mandal.1  Jun-13  Jul-13  Aug-13  Sep-13  \\\n",
              " 372    2111  Medchal-Malkajgiri    Kapra    32.7    28.8    29.3    31.8   \n",
              " \n",
              "      Oct-13  Nov-13  Dec-13  ...  Apr-17  May-17  Jun-17  Jul-17  Aug-17  \\\n",
              " 372    30.9    29.9    28.4  ...    40.8    41.0    34.1    31.7    30.9   \n",
              " \n",
              "      Sep-17  Oct-17  Nov-17  Dec-17  Jan-18  \n",
              " 372    32.1    32.6    31.8    30.9    31.2  \n",
              " \n",
              " [1 rows x 59 columns],\n",
              "      Dmcode            District Mandal  Jun-13  Jul-13  Aug-13  Sep-13  \\\n",
              " 372    2111  Medchal-Malkajgiri  Kapra    23.7    22.4    22.4    22.4   \n",
              " \n",
              "      Oct-13  Nov-13  Dec-13  ...  Apr-17  May-17  Jun-17  Jul-17  Aug-17  \\\n",
              " 372    21.6    17.6    13.8  ...    24.1    27.4    25.2    24.4    23.5   \n",
              " \n",
              "      Sep-17  Oct-17  Nov-17  Dec-17  Jan-18  \n",
              " 372    23.5    21.8    15.6    13.8    13.2  \n",
              " \n",
              " [1 rows x 59 columns])"
            ]
          },
          "metadata": {},
          "execution_count": 5
        }
      ],
      "source": [
        "# Filter the data using the identified names for Medchal district and Kapra Mandal\n",
        "df_max_filtered = df_max[(df_max['District'] == 'Medchal-Malkajgiri') & (df_max['Mandal.1'] == 'Kapra')]\n",
        "df_min_filtered = df_min[(df_min['District'] == 'Medchal-Malkajgiri') & (df_min['Mandal'] == 'Kapra')]\n",
        "\n",
        "# Display the filtered data\n",
        "df_max_filtered, df_min_filtered\n"
      ]
    },
    {
      "cell_type": "code",
      "execution_count": 6,
      "id": "bddb3cea-9284-4a17-9c29-c37b06d48b89",
      "metadata": {
        "colab": {
          "base_uri": "https://localhost:8080/"
        },
        "id": "bddb3cea-9284-4a17-9c29-c37b06d48b89",
        "outputId": "e4295da2-80f3-4315-da46-83feae824c13"
      },
      "outputs": [
        {
          "output_type": "execute_result",
          "data": {
            "text/plain": [
              "(        Date  Max_Temperature\n",
              " 0 2013-06-01             32.7\n",
              " 1 2013-07-01             28.8\n",
              " 2 2013-08-01             29.3\n",
              " 3 2013-09-01             31.8\n",
              " 4 2013-10-01             30.9,\n",
              "         Date  Min_Temperature\n",
              " 0 2013-06-01             23.7\n",
              " 1 2013-07-01             22.4\n",
              " 2 2013-08-01             22.4\n",
              " 3 2013-09-01             22.4\n",
              " 4 2013-10-01             21.6)"
            ]
          },
          "metadata": {},
          "execution_count": 6
        }
      ],
      "source": [
        "# Drop unnecessary columns before transposing\n",
        "df_max_filtered = df_max_filtered.drop(columns=['Mandal', 'District', 'Mandal.1'])\n",
        "df_min_filtered = df_min_filtered.drop(columns=['Dmcode', 'District', 'Mandal'])\n",
        "\n",
        "# Transpose the dataframes\n",
        "df_max_transposed = df_max_filtered.transpose()\n",
        "df_min_transposed = df_min_filtered.transpose()\n",
        "\n",
        "# Reset the index for both dataframes\n",
        "df_max_transposed.reset_index(inplace=True)\n",
        "df_min_transposed.reset_index(inplace=True)\n",
        "\n",
        "# Rename columns\n",
        "df_max_transposed.columns = ['Date', 'Max_Temperature']\n",
        "df_min_transposed.columns = ['Date', 'Min_Temperature']\n",
        "\n",
        "# Convert 'Date' columns to Pandas Datetime format\n",
        "df_max_transposed['Date'] = pd.to_datetime(df_max_transposed['Date'], format='%b-%y')\n",
        "df_min_transposed['Date'] = pd.to_datetime(df_min_transposed['Date'], format='%b-%y')\n",
        "\n",
        "# Display the first few rows of the transposed and cleaned dataframes\n",
        "df_max_transposed.head(), df_min_transposed.head()\n"
      ]
    },
    {
      "cell_type": "code",
      "execution_count": 7,
      "id": "5afa024e-906c-4bd1-81d6-593d1c93c25d",
      "metadata": {
        "colab": {
          "base_uri": "https://localhost:8080/",
          "height": 542
        },
        "id": "5afa024e-906c-4bd1-81d6-593d1c93c25d",
        "outputId": "13d8f856-bbf4-407d-d693-53f5fcfe2aa7"
      },
      "outputs": [
        {
          "output_type": "display_data",
          "data": {
            "text/html": [
              "<html>\n",
              "<head><meta charset=\"utf-8\" /></head>\n",
              "<body>\n",
              "    <div>            <script src=\"https://cdnjs.cloudflare.com/ajax/libs/mathjax/2.7.5/MathJax.js?config=TeX-AMS-MML_SVG\"></script><script type=\"text/javascript\">if (window.MathJax && window.MathJax.Hub && window.MathJax.Hub.Config) {window.MathJax.Hub.Config({SVG: {font: \"STIX-Web\"}});}</script>                <script type=\"text/javascript\">window.PlotlyConfig = {MathJaxConfig: 'local'};</script>\n",
              "        <script charset=\"utf-8\" src=\"https://cdn.plot.ly/plotly-2.24.1.min.js\"></script>                <div id=\"ef6b0fd1-e244-491d-986a-c3a6322b1fa1\" class=\"plotly-graph-div\" style=\"height:525px; width:100%;\"></div>            <script type=\"text/javascript\">                                    window.PLOTLYENV=window.PLOTLYENV || {};                                    if (document.getElementById(\"ef6b0fd1-e244-491d-986a-c3a6322b1fa1\")) {                    Plotly.newPlot(                        \"ef6b0fd1-e244-491d-986a-c3a6322b1fa1\",                        [{\"hovertemplate\":\"variable=Max_Temperature\\u003cbr\\u003eTime=%{x}\\u003cbr\\u003eTemperature (\\u00b0C)=%{y}\\u003cextra\\u003e\\u003c\\u002fextra\\u003e\",\"legendgroup\":\"Max_Temperature\",\"line\":{\"color\":\"#636efa\",\"dash\":\"solid\"},\"marker\":{\"symbol\":\"circle\"},\"mode\":\"lines\",\"name\":\"Max_Temperature\",\"orientation\":\"v\",\"showlegend\":true,\"x\":[\"2013-06-01T00:00:00\",\"2013-07-01T00:00:00\",\"2013-08-01T00:00:00\",\"2013-09-01T00:00:00\",\"2013-10-01T00:00:00\",\"2013-11-01T00:00:00\",\"2013-12-01T00:00:00\",\"2014-01-01T00:00:00\",\"2014-02-01T00:00:00\",\"2014-03-01T00:00:00\",\"2014-04-01T00:00:00\",\"2014-05-01T00:00:00\",\"2014-06-01T00:00:00\",\"2014-07-01T00:00:00\",\"2014-08-01T00:00:00\",\"2014-09-01T00:00:00\",\"2014-10-01T00:00:00\",\"2014-11-01T00:00:00\",\"2014-12-01T00:00:00\",\"2015-01-01T00:00:00\",\"2015-02-01T00:00:00\",\"2015-03-01T00:00:00\",\"2015-04-01T00:00:00\",\"2015-05-01T00:00:00\",\"2015-06-01T00:00:00\",\"2015-07-01T00:00:00\",\"2015-08-01T00:00:00\",\"2015-09-01T00:00:00\",\"2015-10-01T00:00:00\",\"2015-11-01T00:00:00\",\"2015-12-01T00:00:00\",\"2016-01-01T00:00:00\",\"2016-02-01T00:00:00\",\"2016-03-01T00:00:00\",\"2016-04-01T00:00:00\",\"2016-05-01T00:00:00\",\"2016-06-01T00:00:00\",\"2016-07-01T00:00:00\",\"2016-08-01T00:00:00\",\"2016-09-01T00:00:00\",\"2016-10-01T00:00:00\",\"2016-11-01T00:00:00\",\"2016-12-01T00:00:00\",\"2017-01-01T00:00:00\",\"2017-02-01T00:00:00\",\"2017-03-01T00:00:00\",\"2017-04-01T00:00:00\",\"2017-05-01T00:00:00\",\"2017-06-01T00:00:00\",\"2017-07-01T00:00:00\",\"2017-08-01T00:00:00\",\"2017-09-01T00:00:00\",\"2017-10-01T00:00:00\",\"2017-11-01T00:00:00\",\"2017-12-01T00:00:00\",\"2018-01-01T00:00:00\"],\"xaxis\":\"x\",\"y\":[32.7,28.8,29.3,31.8,30.9,29.9,28.4,28.2,31.4,33.9,39.0,39.3,37.7,31.9,33.0,32.3,34.7,32.2,30.6,31.1,34.8,36.5,38.4,41.3,35.7,35.6,34.1,33.8,34.2,33.0,33.3,32.5,36.4,38.9,42.1,39.6,34.3,30.4,31.4,29.3,31.3,33.0,31.6,31.4,34.5,37.3,40.8,41.0,34.1,31.7,30.9,32.1,32.6,31.8,30.9,31.2],\"yaxis\":\"y\",\"type\":\"scatter\"},{\"hovertemplate\":\"variable=Min_Temperature\\u003cbr\\u003eTime=%{x}\\u003cbr\\u003eTemperature (\\u00b0C)=%{y}\\u003cextra\\u003e\\u003c\\u002fextra\\u003e\",\"legendgroup\":\"Min_Temperature\",\"line\":{\"color\":\"#EF553B\",\"dash\":\"solid\"},\"marker\":{\"symbol\":\"circle\"},\"mode\":\"lines\",\"name\":\"Min_Temperature\",\"orientation\":\"v\",\"showlegend\":true,\"x\":[\"2013-06-01T00:00:00\",\"2013-07-01T00:00:00\",\"2013-08-01T00:00:00\",\"2013-09-01T00:00:00\",\"2013-10-01T00:00:00\",\"2013-11-01T00:00:00\",\"2013-12-01T00:00:00\",\"2014-01-01T00:00:00\",\"2014-02-01T00:00:00\",\"2014-03-01T00:00:00\",\"2014-04-01T00:00:00\",\"2014-05-01T00:00:00\",\"2014-06-01T00:00:00\",\"2014-07-01T00:00:00\",\"2014-08-01T00:00:00\",\"2014-09-01T00:00:00\",\"2014-10-01T00:00:00\",\"2014-11-01T00:00:00\",\"2014-12-01T00:00:00\",\"2015-01-01T00:00:00\",\"2015-02-01T00:00:00\",\"2015-03-01T00:00:00\",\"2015-04-01T00:00:00\",\"2015-05-01T00:00:00\",\"2015-06-01T00:00:00\",\"2015-07-01T00:00:00\",\"2015-08-01T00:00:00\",\"2015-09-01T00:00:00\",\"2015-10-01T00:00:00\",\"2015-11-01T00:00:00\",\"2015-12-01T00:00:00\",\"2016-01-01T00:00:00\",\"2016-02-01T00:00:00\",\"2016-03-01T00:00:00\",\"2016-04-01T00:00:00\",\"2016-05-01T00:00:00\",\"2016-06-01T00:00:00\",\"2016-07-01T00:00:00\",\"2016-08-01T00:00:00\",\"2016-09-01T00:00:00\",\"2016-10-01T00:00:00\",\"2016-11-01T00:00:00\",\"2016-12-01T00:00:00\",\"2017-01-01T00:00:00\",\"2017-02-01T00:00:00\",\"2017-03-01T00:00:00\",\"2017-04-01T00:00:00\",\"2017-05-01T00:00:00\",\"2017-06-01T00:00:00\",\"2017-07-01T00:00:00\",\"2017-08-01T00:00:00\",\"2017-09-01T00:00:00\",\"2017-10-01T00:00:00\",\"2017-11-01T00:00:00\",\"2017-12-01T00:00:00\",\"2018-01-01T00:00:00\"],\"xaxis\":\"x\",\"y\":[23.7,22.4,22.4,22.4,21.6,17.6,13.8,16.0,16.8,20.6,24.0,25.5,26.2,23.6,23.5,23.2,21.5,18.1,15.5,15.6,17.9,22.0,24.1,27.4,25.3,25.7,24.6,22.5,19.7,17.8,16.1,15.2,18.6,21.4,24.6,25.3,24.3,23.1,24.1,22.7,20.6,14.1,13.4,13.6,15.6,19.8,24.1,27.4,25.2,24.4,23.5,23.5,21.8,15.6,13.8,13.2],\"yaxis\":\"y\",\"type\":\"scatter\"}],                        {\"template\":{\"data\":{\"barpolar\":[{\"marker\":{\"line\":{\"color\":\"rgb(17,17,17)\",\"width\":0.5},\"pattern\":{\"fillmode\":\"overlay\",\"size\":10,\"solidity\":0.2}},\"type\":\"barpolar\"}],\"bar\":[{\"error_x\":{\"color\":\"#f2f5fa\"},\"error_y\":{\"color\":\"#f2f5fa\"},\"marker\":{\"line\":{\"color\":\"rgb(17,17,17)\",\"width\":0.5},\"pattern\":{\"fillmode\":\"overlay\",\"size\":10,\"solidity\":0.2}},\"type\":\"bar\"}],\"carpet\":[{\"aaxis\":{\"endlinecolor\":\"#A2B1C6\",\"gridcolor\":\"#506784\",\"linecolor\":\"#506784\",\"minorgridcolor\":\"#506784\",\"startlinecolor\":\"#A2B1C6\"},\"baxis\":{\"endlinecolor\":\"#A2B1C6\",\"gridcolor\":\"#506784\",\"linecolor\":\"#506784\",\"minorgridcolor\":\"#506784\",\"startlinecolor\":\"#A2B1C6\"},\"type\":\"carpet\"}],\"choropleth\":[{\"colorbar\":{\"outlinewidth\":0,\"ticks\":\"\"},\"type\":\"choropleth\"}],\"contourcarpet\":[{\"colorbar\":{\"outlinewidth\":0,\"ticks\":\"\"},\"type\":\"contourcarpet\"}],\"contour\":[{\"colorbar\":{\"outlinewidth\":0,\"ticks\":\"\"},\"colorscale\":[[0.0,\"#0d0887\"],[0.1111111111111111,\"#46039f\"],[0.2222222222222222,\"#7201a8\"],[0.3333333333333333,\"#9c179e\"],[0.4444444444444444,\"#bd3786\"],[0.5555555555555556,\"#d8576b\"],[0.6666666666666666,\"#ed7953\"],[0.7777777777777778,\"#fb9f3a\"],[0.8888888888888888,\"#fdca26\"],[1.0,\"#f0f921\"]],\"type\":\"contour\"}],\"heatmapgl\":[{\"colorbar\":{\"outlinewidth\":0,\"ticks\":\"\"},\"colorscale\":[[0.0,\"#0d0887\"],[0.1111111111111111,\"#46039f\"],[0.2222222222222222,\"#7201a8\"],[0.3333333333333333,\"#9c179e\"],[0.4444444444444444,\"#bd3786\"],[0.5555555555555556,\"#d8576b\"],[0.6666666666666666,\"#ed7953\"],[0.7777777777777778,\"#fb9f3a\"],[0.8888888888888888,\"#fdca26\"],[1.0,\"#f0f921\"]],\"type\":\"heatmapgl\"}],\"heatmap\":[{\"colorbar\":{\"outlinewidth\":0,\"ticks\":\"\"},\"colorscale\":[[0.0,\"#0d0887\"],[0.1111111111111111,\"#46039f\"],[0.2222222222222222,\"#7201a8\"],[0.3333333333333333,\"#9c179e\"],[0.4444444444444444,\"#bd3786\"],[0.5555555555555556,\"#d8576b\"],[0.6666666666666666,\"#ed7953\"],[0.7777777777777778,\"#fb9f3a\"],[0.8888888888888888,\"#fdca26\"],[1.0,\"#f0f921\"]],\"type\":\"heatmap\"}],\"histogram2dcontour\":[{\"colorbar\":{\"outlinewidth\":0,\"ticks\":\"\"},\"colorscale\":[[0.0,\"#0d0887\"],[0.1111111111111111,\"#46039f\"],[0.2222222222222222,\"#7201a8\"],[0.3333333333333333,\"#9c179e\"],[0.4444444444444444,\"#bd3786\"],[0.5555555555555556,\"#d8576b\"],[0.6666666666666666,\"#ed7953\"],[0.7777777777777778,\"#fb9f3a\"],[0.8888888888888888,\"#fdca26\"],[1.0,\"#f0f921\"]],\"type\":\"histogram2dcontour\"}],\"histogram2d\":[{\"colorbar\":{\"outlinewidth\":0,\"ticks\":\"\"},\"colorscale\":[[0.0,\"#0d0887\"],[0.1111111111111111,\"#46039f\"],[0.2222222222222222,\"#7201a8\"],[0.3333333333333333,\"#9c179e\"],[0.4444444444444444,\"#bd3786\"],[0.5555555555555556,\"#d8576b\"],[0.6666666666666666,\"#ed7953\"],[0.7777777777777778,\"#fb9f3a\"],[0.8888888888888888,\"#fdca26\"],[1.0,\"#f0f921\"]],\"type\":\"histogram2d\"}],\"histogram\":[{\"marker\":{\"pattern\":{\"fillmode\":\"overlay\",\"size\":10,\"solidity\":0.2}},\"type\":\"histogram\"}],\"mesh3d\":[{\"colorbar\":{\"outlinewidth\":0,\"ticks\":\"\"},\"type\":\"mesh3d\"}],\"parcoords\":[{\"line\":{\"colorbar\":{\"outlinewidth\":0,\"ticks\":\"\"}},\"type\":\"parcoords\"}],\"pie\":[{\"automargin\":true,\"type\":\"pie\"}],\"scatter3d\":[{\"line\":{\"colorbar\":{\"outlinewidth\":0,\"ticks\":\"\"}},\"marker\":{\"colorbar\":{\"outlinewidth\":0,\"ticks\":\"\"}},\"type\":\"scatter3d\"}],\"scattercarpet\":[{\"marker\":{\"colorbar\":{\"outlinewidth\":0,\"ticks\":\"\"}},\"type\":\"scattercarpet\"}],\"scattergeo\":[{\"marker\":{\"colorbar\":{\"outlinewidth\":0,\"ticks\":\"\"}},\"type\":\"scattergeo\"}],\"scattergl\":[{\"marker\":{\"line\":{\"color\":\"#283442\"}},\"type\":\"scattergl\"}],\"scattermapbox\":[{\"marker\":{\"colorbar\":{\"outlinewidth\":0,\"ticks\":\"\"}},\"type\":\"scattermapbox\"}],\"scatterpolargl\":[{\"marker\":{\"colorbar\":{\"outlinewidth\":0,\"ticks\":\"\"}},\"type\":\"scatterpolargl\"}],\"scatterpolar\":[{\"marker\":{\"colorbar\":{\"outlinewidth\":0,\"ticks\":\"\"}},\"type\":\"scatterpolar\"}],\"scatter\":[{\"marker\":{\"line\":{\"color\":\"#283442\"}},\"type\":\"scatter\"}],\"scatterternary\":[{\"marker\":{\"colorbar\":{\"outlinewidth\":0,\"ticks\":\"\"}},\"type\":\"scatterternary\"}],\"surface\":[{\"colorbar\":{\"outlinewidth\":0,\"ticks\":\"\"},\"colorscale\":[[0.0,\"#0d0887\"],[0.1111111111111111,\"#46039f\"],[0.2222222222222222,\"#7201a8\"],[0.3333333333333333,\"#9c179e\"],[0.4444444444444444,\"#bd3786\"],[0.5555555555555556,\"#d8576b\"],[0.6666666666666666,\"#ed7953\"],[0.7777777777777778,\"#fb9f3a\"],[0.8888888888888888,\"#fdca26\"],[1.0,\"#f0f921\"]],\"type\":\"surface\"}],\"table\":[{\"cells\":{\"fill\":{\"color\":\"#506784\"},\"line\":{\"color\":\"rgb(17,17,17)\"}},\"header\":{\"fill\":{\"color\":\"#2a3f5f\"},\"line\":{\"color\":\"rgb(17,17,17)\"}},\"type\":\"table\"}]},\"layout\":{\"annotationdefaults\":{\"arrowcolor\":\"#f2f5fa\",\"arrowhead\":0,\"arrowwidth\":1},\"autotypenumbers\":\"strict\",\"coloraxis\":{\"colorbar\":{\"outlinewidth\":0,\"ticks\":\"\"}},\"colorscale\":{\"diverging\":[[0,\"#8e0152\"],[0.1,\"#c51b7d\"],[0.2,\"#de77ae\"],[0.3,\"#f1b6da\"],[0.4,\"#fde0ef\"],[0.5,\"#f7f7f7\"],[0.6,\"#e6f5d0\"],[0.7,\"#b8e186\"],[0.8,\"#7fbc41\"],[0.9,\"#4d9221\"],[1,\"#276419\"]],\"sequential\":[[0.0,\"#0d0887\"],[0.1111111111111111,\"#46039f\"],[0.2222222222222222,\"#7201a8\"],[0.3333333333333333,\"#9c179e\"],[0.4444444444444444,\"#bd3786\"],[0.5555555555555556,\"#d8576b\"],[0.6666666666666666,\"#ed7953\"],[0.7777777777777778,\"#fb9f3a\"],[0.8888888888888888,\"#fdca26\"],[1.0,\"#f0f921\"]],\"sequentialminus\":[[0.0,\"#0d0887\"],[0.1111111111111111,\"#46039f\"],[0.2222222222222222,\"#7201a8\"],[0.3333333333333333,\"#9c179e\"],[0.4444444444444444,\"#bd3786\"],[0.5555555555555556,\"#d8576b\"],[0.6666666666666666,\"#ed7953\"],[0.7777777777777778,\"#fb9f3a\"],[0.8888888888888888,\"#fdca26\"],[1.0,\"#f0f921\"]]},\"colorway\":[\"#636efa\",\"#EF553B\",\"#00cc96\",\"#ab63fa\",\"#FFA15A\",\"#19d3f3\",\"#FF6692\",\"#B6E880\",\"#FF97FF\",\"#FECB52\"],\"font\":{\"color\":\"#f2f5fa\"},\"geo\":{\"bgcolor\":\"rgb(17,17,17)\",\"lakecolor\":\"rgb(17,17,17)\",\"landcolor\":\"rgb(17,17,17)\",\"showlakes\":true,\"showland\":true,\"subunitcolor\":\"#506784\"},\"hoverlabel\":{\"align\":\"left\"},\"hovermode\":\"closest\",\"mapbox\":{\"style\":\"dark\"},\"paper_bgcolor\":\"rgb(17,17,17)\",\"plot_bgcolor\":\"rgb(17,17,17)\",\"polar\":{\"angularaxis\":{\"gridcolor\":\"#506784\",\"linecolor\":\"#506784\",\"ticks\":\"\"},\"bgcolor\":\"rgb(17,17,17)\",\"radialaxis\":{\"gridcolor\":\"#506784\",\"linecolor\":\"#506784\",\"ticks\":\"\"}},\"scene\":{\"xaxis\":{\"backgroundcolor\":\"rgb(17,17,17)\",\"gridcolor\":\"#506784\",\"gridwidth\":2,\"linecolor\":\"#506784\",\"showbackground\":true,\"ticks\":\"\",\"zerolinecolor\":\"#C8D4E3\"},\"yaxis\":{\"backgroundcolor\":\"rgb(17,17,17)\",\"gridcolor\":\"#506784\",\"gridwidth\":2,\"linecolor\":\"#506784\",\"showbackground\":true,\"ticks\":\"\",\"zerolinecolor\":\"#C8D4E3\"},\"zaxis\":{\"backgroundcolor\":\"rgb(17,17,17)\",\"gridcolor\":\"#506784\",\"gridwidth\":2,\"linecolor\":\"#506784\",\"showbackground\":true,\"ticks\":\"\",\"zerolinecolor\":\"#C8D4E3\"}},\"shapedefaults\":{\"line\":{\"color\":\"#f2f5fa\"}},\"sliderdefaults\":{\"bgcolor\":\"#C8D4E3\",\"bordercolor\":\"rgb(17,17,17)\",\"borderwidth\":1,\"tickwidth\":0},\"ternary\":{\"aaxis\":{\"gridcolor\":\"#506784\",\"linecolor\":\"#506784\",\"ticks\":\"\"},\"baxis\":{\"gridcolor\":\"#506784\",\"linecolor\":\"#506784\",\"ticks\":\"\"},\"bgcolor\":\"rgb(17,17,17)\",\"caxis\":{\"gridcolor\":\"#506784\",\"linecolor\":\"#506784\",\"ticks\":\"\"}},\"title\":{\"x\":0.05},\"updatemenudefaults\":{\"bgcolor\":\"#506784\",\"borderwidth\":0},\"xaxis\":{\"automargin\":true,\"gridcolor\":\"#283442\",\"linecolor\":\"#506784\",\"ticks\":\"\",\"title\":{\"standoff\":15},\"zerolinecolor\":\"#283442\",\"zerolinewidth\":2},\"yaxis\":{\"automargin\":true,\"gridcolor\":\"#283442\",\"linecolor\":\"#506784\",\"ticks\":\"\",\"title\":{\"standoff\":15},\"zerolinecolor\":\"#283442\",\"zerolinewidth\":2}}},\"xaxis\":{\"anchor\":\"y\",\"domain\":[0.0,1.0],\"title\":{\"text\":\"Time\"}},\"yaxis\":{\"anchor\":\"x\",\"domain\":[0.0,1.0],\"title\":{\"text\":\"Temperature (\\u00b0C)\"}},\"legend\":{\"title\":{\"text\":\"variable\"},\"tracegroupgap\":0},\"title\":{\"text\":\"Monthly Temperatures in Kapra Mandal, Medchal District (2013-2018)\"}},                        {\"responsive\": true}                    ).then(function(){\n",
              "                            \n",
              "var gd = document.getElementById('ef6b0fd1-e244-491d-986a-c3a6322b1fa1');\n",
              "var x = new MutationObserver(function (mutations, observer) {{\n",
              "        var display = window.getComputedStyle(gd).display;\n",
              "        if (!display || display === 'none') {{\n",
              "            console.log([gd, 'removed!']);\n",
              "            Plotly.purge(gd);\n",
              "            observer.disconnect();\n",
              "        }}\n",
              "}});\n",
              "\n",
              "// Listen for the removal of the full notebook cells\n",
              "var notebookContainer = gd.closest('#notebook-container');\n",
              "if (notebookContainer) {{\n",
              "    x.observe(notebookContainer, {childList: true});\n",
              "}}\n",
              "\n",
              "// Listen for the clearing of the current output cell\n",
              "var outputEl = gd.closest('.output');\n",
              "if (outputEl) {{\n",
              "    x.observe(outputEl, {childList: true});\n",
              "}}\n",
              "\n",
              "                        })                };                            </script>        </div>\n",
              "</body>\n",
              "</html>"
            ]
          },
          "metadata": {}
        }
      ],
      "source": [
        "# Importing Plotly Express for visualization\n",
        "import plotly.express as px\n",
        "\n",
        "# Merging the max and min temperature dataframes on 'Date'\n",
        "df_merged = pd.merge(df_max_transposed, df_min_transposed, on='Date')\n",
        "\n",
        "# Create a line plot using Plotly Express\n",
        "fig = px.line(df_merged, x='Date', y=['Max_Temperature', 'Min_Temperature'],\n",
        "              title='Monthly Temperatures in Kapra Mandal, Medchal District (2013-2018)',\n",
        "              labels={'value': 'Temperature (°C)', 'Date': 'Time'},\n",
        "              template='plotly_dark')\n",
        "\n",
        "fig.show()\n"
      ]
    }
  ],
  "metadata": {
    "kernelspec": {
      "display_name": "Python 3 (ipykernel)",
      "language": "python",
      "name": "python3"
    },
    "language_info": {
      "codemirror_mode": {
        "name": "ipython",
        "version": 3
      },
      "file_extension": ".py",
      "mimetype": "text/x-python",
      "name": "python",
      "nbconvert_exporter": "python",
      "pygments_lexer": "ipython3",
      "version": "3.11.4"
    },
    "colab": {
      "provenance": [],
      "include_colab_link": true
    }
  },
  "nbformat": 4,
  "nbformat_minor": 5
}