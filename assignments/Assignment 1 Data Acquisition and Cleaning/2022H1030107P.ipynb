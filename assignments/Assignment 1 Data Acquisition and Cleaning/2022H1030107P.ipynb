{
 "cells": [
  {
   "cell_type": "code",
   "execution_count": 17,
   "id": "76399933-01e9-4842-8177-bb53f204747b",
   "metadata": {},
   "outputs": [
    {
     "data": {
      "text/plain": [
       "'\\nHimanshu Shukla\\n2022H1030107P\\nME 2nd year\\n'"
      ]
     },
     "execution_count": 17,
     "metadata": {},
     "output_type": "execute_result"
    }
   ],
   "source": [
    "'''\n",
    "Himanshu Shukla\n",
    "2022H1030107P\n",
    "ME 2nd year\n",
    "'''"
   ]
  },
  {
   "cell_type": "code",
   "execution_count": 18,
   "id": "e42ab599-1d67-40c3-96f4-09cb5bff492c",
   "metadata": {},
   "outputs": [],
   "source": [
    "import pandas as pd"
   ]
  },
  {
   "cell_type": "code",
   "execution_count": 19,
   "id": "23631fd4-4d50-4eb9-8692-f635bc208a30",
   "metadata": {
    "scrolled": true
   },
   "outputs": [
    {
     "name": "stdout",
     "output_type": "stream",
     "text": [
      "rows are 157126 columns are 11\n"
     ]
    }
   ],
   "source": [
    "#Read Data and Create DataFrame\n",
    "csv_file_path = 'pincode.csv'\n",
    "data_frame=pd.read_csv(csv_file_path,low_memory=False)\n",
    "num_rows, num_cols=data_frame.shape #counting the rows and columns\n",
    "print(f\"rows are {num_rows} columns are {num_cols}\")"
   ]
  },
  {
   "cell_type": "code",
   "execution_count": 20,
   "id": "16bf6203-014d-43d6-b67f-f31f91d9909a",
   "metadata": {},
   "outputs": [
    {
     "name": "stdout",
     "output_type": "stream",
     "text": [
      "column names are: \n",
      "\u001b[1m 1: CircleName \u001b[0m\n",
      "\u001b[1m 2: RegionName \u001b[0m\n",
      "\u001b[1m 3: DivisionName \u001b[0m\n",
      "\u001b[1m 4: OfficeName \u001b[0m\n",
      "\u001b[1m 5: Pincode \u001b[0m\n",
      "\u001b[1m 6: OfficeType \u001b[0m\n",
      "\u001b[1m 7: Delivery \u001b[0m\n",
      "\u001b[1m 8: District \u001b[0m\n",
      "\u001b[1m 9: StateName \u001b[0m\n",
      "\u001b[1m 10: Latitude \u001b[0m\n",
      "\u001b[1m 11: Longitude \u001b[0m\n"
     ]
    }
   ],
   "source": [
    "#listing the column names\n",
    "column_names=data_frame.columns.tolist()\n",
    "print(f\"column names are: \")\n",
    "for index,col in enumerate(column_names):\n",
    "    print(f\"\\033[1m {index+1}: {col} \\033[0m\") # printing in Bold"
   ]
  },
  {
   "cell_type": "code",
   "execution_count": 21,
   "id": "c5503f4d-c3ae-488e-972b-acaf2b329fee",
   "metadata": {},
   "outputs": [
    {
     "name": "stdout",
     "output_type": "stream",
     "text": [
      "Number of rows with missing values: 8900\n",
      "Number of columns with missing values: 4\n"
     ]
    }
   ],
   "source": [
    "num_rows_missing = data_frame.isnull().any(axis=1).sum()\n",
    "num_columns_missing = data_frame.isnull().any().sum()\n",
    "\n",
    "print(f\"Number of rows with missing values: {num_rows_missing}\")\n",
    "print(f\"Number of columns with missing values: {num_columns_missing}\")\n"
   ]
  },
  {
   "cell_type": "code",
   "execution_count": 22,
   "id": "d829060e-b1b6-4415-9ece-f4786d7464a2",
   "metadata": {},
   "outputs": [
    {
     "data": {
      "text/html": [
       "<div>\n",
       "<style scoped>\n",
       "    .dataframe tbody tr th:only-of-type {\n",
       "        vertical-align: middle;\n",
       "    }\n",
       "\n",
       "    .dataframe tbody tr th {\n",
       "        vertical-align: top;\n",
       "    }\n",
       "\n",
       "    .dataframe thead th {\n",
       "        text-align: right;\n",
       "    }\n",
       "</style>\n",
       "<table border=\"1\" class=\"dataframe\">\n",
       "  <thead>\n",
       "    <tr style=\"text-align: right;\">\n",
       "      <th></th>\n",
       "      <th>CircleName</th>\n",
       "      <th>RegionName</th>\n",
       "      <th>DivisionName</th>\n",
       "      <th>OfficeName</th>\n",
       "      <th>Pincode</th>\n",
       "      <th>OfficeType</th>\n",
       "      <th>Delivery</th>\n",
       "      <th>District</th>\n",
       "      <th>StateName</th>\n",
       "      <th>Latitude</th>\n",
       "      <th>Longitude</th>\n",
       "    </tr>\n",
       "  </thead>\n",
       "  <tbody>\n",
       "    <tr>\n",
       "      <th>0</th>\n",
       "      <td>Andhra Pradesh Circle</td>\n",
       "      <td>Kurnool Region</td>\n",
       "      <td>Hindupur Division</td>\n",
       "      <td>Peddakotla B.O</td>\n",
       "      <td>515631</td>\n",
       "      <td>BO</td>\n",
       "      <td>Delivery</td>\n",
       "      <td>ANANTAPUR</td>\n",
       "      <td>ANDHRA PRADESH</td>\n",
       "      <td>14.5689</td>\n",
       "      <td>77.85624</td>\n",
       "    </tr>\n",
       "    <tr>\n",
       "      <th>1</th>\n",
       "      <td>Andhra Pradesh Circle</td>\n",
       "      <td>Kurnool Region</td>\n",
       "      <td>Hindupur Division</td>\n",
       "      <td>Pinnadhari B.O</td>\n",
       "      <td>515631</td>\n",
       "      <td>BO</td>\n",
       "      <td>Delivery</td>\n",
       "      <td>ANANTAPUR</td>\n",
       "      <td>ANDHRA PRADESH</td>\n",
       "      <td>14.5281</td>\n",
       "      <td>77.857014</td>\n",
       "    </tr>\n",
       "    <tr>\n",
       "      <th>2</th>\n",
       "      <td>Andhra Pradesh Circle</td>\n",
       "      <td>Kurnool Region</td>\n",
       "      <td>Hindupur Division</td>\n",
       "      <td>Yerraguntapalle B.O</td>\n",
       "      <td>515631</td>\n",
       "      <td>BO</td>\n",
       "      <td>Delivery</td>\n",
       "      <td>ANANTAPUR</td>\n",
       "      <td>ANDHRA PRADESH</td>\n",
       "      <td>14.561111</td>\n",
       "      <td>77.85715</td>\n",
       "    </tr>\n",
       "    <tr>\n",
       "      <th>3</th>\n",
       "      <td>Andhra Pradesh Circle</td>\n",
       "      <td>Kurnool Region</td>\n",
       "      <td>Hindupur Division</td>\n",
       "      <td>Obulareddipalli B.O</td>\n",
       "      <td>515581</td>\n",
       "      <td>BO</td>\n",
       "      <td>Delivery</td>\n",
       "      <td>ANANTAPUR</td>\n",
       "      <td>ANDHRA PRADESH</td>\n",
       "      <td>14.2488</td>\n",
       "      <td>78.2588</td>\n",
       "    </tr>\n",
       "    <tr>\n",
       "      <th>4</th>\n",
       "      <td>Andhra Pradesh Circle</td>\n",
       "      <td>Kurnool Region</td>\n",
       "      <td>Hindupur Division</td>\n",
       "      <td>Odulapalli B.O</td>\n",
       "      <td>515581</td>\n",
       "      <td>BO</td>\n",
       "      <td>Delivery</td>\n",
       "      <td>ANANTAPUR</td>\n",
       "      <td>ANDHRA PRADESH</td>\n",
       "      <td>14.24555</td>\n",
       "      <td>78.2477</td>\n",
       "    </tr>\n",
       "  </tbody>\n",
       "</table>\n",
       "</div>"
      ],
      "text/plain": [
       "              CircleName      RegionName       DivisionName  \\\n",
       "0  Andhra Pradesh Circle  Kurnool Region  Hindupur Division   \n",
       "1  Andhra Pradesh Circle  Kurnool Region  Hindupur Division   \n",
       "2  Andhra Pradesh Circle  Kurnool Region  Hindupur Division   \n",
       "3  Andhra Pradesh Circle  Kurnool Region  Hindupur Division   \n",
       "4  Andhra Pradesh Circle  Kurnool Region  Hindupur Division   \n",
       "\n",
       "            OfficeName  Pincode OfficeType  Delivery   District  \\\n",
       "0       Peddakotla B.O   515631         BO  Delivery  ANANTAPUR   \n",
       "1       Pinnadhari B.O   515631         BO  Delivery  ANANTAPUR   \n",
       "2  Yerraguntapalle B.O   515631         BO  Delivery  ANANTAPUR   \n",
       "3  Obulareddipalli B.O   515581         BO  Delivery  ANANTAPUR   \n",
       "4       Odulapalli B.O   515581         BO  Delivery  ANANTAPUR   \n",
       "\n",
       "        StateName   Latitude  Longitude  \n",
       "0  ANDHRA PRADESH    14.5689   77.85624  \n",
       "1  ANDHRA PRADESH    14.5281  77.857014  \n",
       "2  ANDHRA PRADESH  14.561111   77.85715  \n",
       "3  ANDHRA PRADESH    14.2488    78.2588  \n",
       "4  ANDHRA PRADESH   14.24555    78.2477  "
      ]
     },
     "execution_count": 22,
     "metadata": {},
     "output_type": "execute_result"
    }
   ],
   "source": [
    "dtype_options = {'Latitude': str, 'Longitude': str}\n",
    "data_frame= pd.read_csv('pincode.csv',dtype=dtype_options)\n",
    "data_frame.head()"
   ]
  },
  {
   "cell_type": "code",
   "execution_count": 23,
   "id": "9d9d4e8e-e5a1-4d3f-8c86-bbd7dcf9026b",
   "metadata": {},
   "outputs": [
    {
     "data": {
      "text/plain": [
       "<bound method NDFrame.describe of                    CircleName       RegionName       DivisionName  \\\n",
       "0       Andhra Pradesh Circle   Kurnool Region  Hindupur Division   \n",
       "1       Andhra Pradesh Circle   Kurnool Region  Hindupur Division   \n",
       "2       Andhra Pradesh Circle   Kurnool Region  Hindupur Division   \n",
       "3       Andhra Pradesh Circle   Kurnool Region  Hindupur Division   \n",
       "4       Andhra Pradesh Circle   Kurnool Region  Hindupur Division   \n",
       "...                       ...              ...                ...   \n",
       "157121   Uttar Pradesh Circle  Bareilly Region    Meerut Division   \n",
       "157122   Uttar Pradesh Circle  Bareilly Region    Meerut Division   \n",
       "157123   Uttar Pradesh Circle  Bareilly Region    Meerut Division   \n",
       "157124          Kerala Circle   Calicut Region   Calicut Division   \n",
       "157125          Kerala Circle   Calicut Region   Calicut Division   \n",
       "\n",
       "                 OfficeName  Pincode OfficeType      Delivery   District  \\\n",
       "0            Peddakotla B.O   515631         BO      Delivery  ANANTAPUR   \n",
       "1            Pinnadhari B.O   515631         BO      Delivery  ANANTAPUR   \n",
       "2       Yerraguntapalle B.O   515631         BO      Delivery  ANANTAPUR   \n",
       "3       Obulareddipalli B.O   515581         BO      Delivery  ANANTAPUR   \n",
       "4            Odulapalli B.O   515581         BO      Delivery  ANANTAPUR   \n",
       "...                     ...      ...        ...           ...        ...   \n",
       "157121   Rly Road Meerut SO   250002         PO  Non Delivery     MEERUT   \n",
       "157122           SGMandi SO   250002         PO  Non Delivery     MEERUT   \n",
       "157123          W K Road SO   250001         PO  Non Delivery     MEERUT   \n",
       "157124           Kakkoti SO   673611         PO      Delivery  KOZHIKODE   \n",
       "157125         Kotuvalli SO   673572         PO      Delivery  KOZHIKODE   \n",
       "\n",
       "             StateName    Latitude   Longitude  \n",
       "0       ANDHRA PRADESH     14.5689    77.85624  \n",
       "1       ANDHRA PRADESH     14.5281   77.857014  \n",
       "2       ANDHRA PRADESH   14.561111    77.85715  \n",
       "3       ANDHRA PRADESH     14.2488     78.2588  \n",
       "4       ANDHRA PRADESH    14.24555     78.2477  \n",
       "...                ...         ...         ...  \n",
       "157121   UTTAR PRADESH  28.9800000  77.6800000  \n",
       "157122   UTTAR PRADESH  28.9724000  77.6753600  \n",
       "157123   UTTAR PRADESH  28.9900000  77.7100000  \n",
       "157124          KERALA  11.2452900  75.7784550  \n",
       "157125          KERALA  11.3500000  75.9100000  \n",
       "\n",
       "[157126 rows x 11 columns]>"
      ]
     },
     "execution_count": 23,
     "metadata": {},
     "output_type": "execute_result"
    }
   ],
   "source": [
    "data_frame.describe"
   ]
  },
  {
   "cell_type": "code",
   "execution_count": 24,
   "id": "05fbf549-c10b-4b25-bd92-f211c580cbc8",
   "metadata": {
    "scrolled": true
   },
   "outputs": [
    {
     "name": "stdout",
     "output_type": "stream",
     "text": [
      "Number of rows in cleaned DataFrame: 148226\n",
      "Number of columns in cleaned DataFrame: 11\n"
     ]
    }
   ],
   "source": [
    "df=data_frame\n",
    "\n",
    "# Drop rows with any missing values\n",
    "df_cleaned = df.dropna()\n",
    "\n",
    "# Get the size of the cleaned DataFrame\n",
    "num_rows_cleaned = df_cleaned.shape[0]\n",
    "num_columns_cleaned = df_cleaned.shape[1]\n",
    "\n",
    "print(f\"Number of rows in cleaned DataFrame: {num_rows_cleaned}\")\n",
    "print(f\"Number of columns in cleaned DataFrame: {num_columns_cleaned}\")"
   ]
  },
  {
   "cell_type": "code",
   "execution_count": 25,
   "id": "63dcf3d4-f3ca-4c9d-aeb4-61730ae57160",
   "metadata": {},
   "outputs": [
    {
     "name": "stdout",
     "output_type": "stream",
     "text": [
      "Number of non-null values in each column after cleaning:\n",
      "CircleName      148226\n",
      "RegionName      148226\n",
      "DivisionName    148226\n",
      "OfficeName      148226\n",
      "Pincode         148226\n",
      "OfficeType      148226\n",
      "Delivery        148226\n",
      "District        148226\n",
      "StateName       148226\n",
      "Latitude        148226\n",
      "Longitude       148226\n",
      "dtype: int64\n"
     ]
    }
   ],
   "source": [
    "non_null_counts = df_cleaned.count()\n",
    "\n",
    "print(\"Number of non-null values in each column after cleaning:\")\n",
    "print(non_null_counts)"
   ]
  },
  {
   "cell_type": "code",
   "execution_count": 26,
   "id": "06b2b284-9bb3-4e45-be69-35630bd4ad0d",
   "metadata": {},
   "outputs": [
    {
     "name": "stdout",
     "output_type": "stream",
     "text": [
      "Unique values in 'Latitude': ['14.5689' '14.5281' '14.561111' ... '29.1006111' '29.1032777'\n",
      " '28.9724000']\n",
      "Unique values in 'Longitude': ['77.85624' '77.857014' '77.85715' ... '77.2626944' '77.2713333'\n",
      " '77.6753600']\n"
     ]
    }
   ],
   "source": [
    "# Print unique values in 'Latitude' and 'Longitude' columns\n",
    "print(\"Unique values in 'Latitude':\", df_cleaned['Latitude'].unique())\n",
    "print(\"Unique values in 'Longitude':\", df_cleaned['Longitude'].unique())\n"
   ]
  },
  {
   "cell_type": "code",
   "execution_count": 29,
   "id": "aaa86900-bd11-4b55-ab0f-58cb99b435aa",
   "metadata": {},
   "outputs": [
    {
     "name": "stdout",
     "output_type": "stream",
     "text": [
      "Successfully cleaned and converted 'Latitude' and 'Longitude' columns:\n",
      "         Latitude  Longitude\n",
      "0       14.568900  77.856240\n",
      "1       14.528100  77.857014\n",
      "2       14.561111  77.857150\n",
      "3       14.248800  78.258800\n",
      "4       14.245550  78.247700\n",
      "...           ...        ...\n",
      "157121  28.980000  77.680000\n",
      "157122  28.972400  77.675360\n",
      "157123  28.990000  77.710000\n",
      "157124  11.245290  75.778455\n",
      "157125  11.350000  75.910000\n",
      "\n",
      "[148028 rows x 2 columns]\n"
     ]
    }
   ],
   "source": [
    "# Clean non-numeric values in 'Latitude' and 'Longitude' columns\n",
    "def clean_numeric_value(value):\n",
    "    try:\n",
    "        return float(value)\n",
    "    except ValueError:\n",
    "        return None\n",
    "\n",
    "df_cleaned['Latitude'] = df_cleaned['Latitude'].apply(clean_numeric_value)\n",
    "df_cleaned['Longitude'] = df_cleaned['Longitude'].apply(clean_numeric_value)\n",
    "\n",
    "# Drop rows with missing or invalid 'Latitude' or 'Longitude'\n",
    "df_cleaned = df_cleaned.dropna(subset=['Latitude', 'Longitude'])\n",
    "\n",
    "# Convert 'Latitude' and 'Longitude' columns to float\n",
    "df_cleaned['Latitude'] = df_cleaned['Latitude'].astype(float)\n",
    "df_cleaned['Longitude'] = df_cleaned['Longitude'].astype(float)\n",
    "\n",
    "print(\"Successfully cleaned and converted 'Latitude' and 'Longitude' columns:\")\n",
    "print(df_cleaned[['Latitude', 'Longitude']])"
   ]
  },
  {
   "cell_type": "code",
   "execution_count": null,
   "id": "debfcb87-3e43-4d5a-8214-16ba3cca05f9",
   "metadata": {},
   "outputs": [],
   "source": []
  }
 ],
 "metadata": {
  "kernelspec": {
   "display_name": "Python 3 (ipykernel)",
   "language": "python",
   "name": "python3"
  },
  "language_info": {
   "codemirror_mode": {
    "name": "ipython",
    "version": 3
   },
   "file_extension": ".py",
   "mimetype": "text/x-python",
   "name": "python",
   "nbconvert_exporter": "python",
   "pygments_lexer": "ipython3",
   "version": "3.11.4"
  }
 },
 "nbformat": 4,
 "nbformat_minor": 5
}
